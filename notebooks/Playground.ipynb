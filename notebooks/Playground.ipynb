{
 "cells": [
  {
   "cell_type": "code",
   "execution_count": 1,
   "metadata": {},
   "outputs": [],
   "source": [
    "%load_ext autoreload\n",
    "%autoreload 2"
   ]
  },
  {
   "cell_type": "code",
   "execution_count": 2,
   "metadata": {},
   "outputs": [],
   "source": [
    "import sys\n",
    "import time\n",
    "import numpy as np\n",
    "import matplotlib.pyplot as plt\n",
    "\n",
    "sys.path.insert(0, '..')\n",
    "\n",
    "from numpy.random import RandomState\n",
    "from mab.machines import BernouilliSM\n",
    "from mab.solvers import EpsilonGreedy, ThompsonSampling"
   ]
  },
  {
   "cell_type": "code",
   "execution_count": 3,
   "metadata": {},
   "outputs": [],
   "source": [
    "def create_solver(probas, rng, stype):   \n",
    "    sm = BernouilliSM(len(probas), probas, rng)\n",
    "    if stype is \"thompson\":\n",
    "        solver = ThompsonSampling(sm, 0, 0)\n",
    "    elif stype is \"epsilon\":\n",
    "        solver = EpsilonGreedy(sm, 0.01, 1.)\n",
    "    else:\n",
    "        raise ValueError(\"[!] {} not supported.\".format(stype))\n",
    "    return solver\n",
    "\n",
    "def solve(slver, num_iters):\n",
    "    slver.solve(num_iters)\n",
    "    rewards = slver.cumreward\n",
    "    counter = slver.counter\n",
    "\n",
    "    return rewards, counter"
   ]
  },
  {
   "cell_type": "code",
   "execution_count": 4,
   "metadata": {},
   "outputs": [
    {
     "data": {
      "image/png": "[encoded data removed]",
      "text/plain": [
       "<Figure size 360x360 with 1 Axes>"
      ]
     },
     "metadata": {},
     "output_type": "display_data"
    }
   ],
   "source": [
    "SEED = 319028492\n",
    "NUM_ITERS = 5000\n",
    "rng = RandomState(SEED)\n",
    "probas = [rng.rand() for _ in range(10)]\n",
    "\n",
    "thompson_solver = create_solver(probas, rng, \"thompson\")\n",
    "epsilon_solver = create_solver(probas, rng, \"epsilon\")\n",
    "\n",
    "r_thompson, c_thompson = solve(thompson_solver, NUM_ITERS)\n",
    "r_epsilon, c_epsilon = solve(epsilon_solver, NUM_ITERS)\n",
    "\n",
    "plt.figure(figsize=(5, 5))\n",
    "plt.plot(r_thompson, label='Thompson Sampling', c='r')\n",
    "plt.plot(r_epsilon, label='e-greedy (0.01)', c='b')\n",
    "plt.xlabel('Steps')\n",
    "plt.ylabel('Cumulative Reward')\n",
    "plt.show()"
   ]
  },
  {
   "cell_type": "code",
   "execution_count": 5,
   "metadata": {},
   "outputs": [],
   "source": [
    "thompson_solver.save(\"/Users/kevin/Desktop/exp-1/\", \"1\")\n",
    "epsilon_solver.save(\"/Users/kevin/Desktop/exp-1/\", \"1\")"
   ]
  },
  {
   "cell_type": "markdown",
   "metadata": {},
   "source": [
    "# Averaging Seeds"
   ]
  },
  {
   "cell_type": "code",
   "execution_count": null,
   "metadata": {},
   "outputs": [],
   "source": [
    "seeds = [0, 42, 185, 4982, 13942]\n",
    "rewards = {'ts': [], 'eg': []}\n",
    "counters = {'ts': [], 'eg': []}\n",
    "NUM_ITERS = 5000\n",
    "\n",
    "for seed in seeds:\n",
    "    rng = RandomState(seed)\n",
    "    probas = [rng.rand() for _ in range(10)]\n",
    "\n",
    "    thompson_solver = create_solver(probas, rng, \"thompson\")\n",
    "    epsilon_solver = create_solver(probas, rng, \"epsilon\")\n",
    "\n",
    "    r_thompson, c_thompson = solve(thompson_solver, NUM_ITERS)\n",
    "    r_epsilon, c_epsilon = solve(epsilon_solver, NUM_ITERS)\n",
    "    \n",
    "    rewards['ts'].append(r_thompson)\n",
    "    rewards['eg'].append(r_epsilon)\n",
    "    counters['ts'].append(c_thompson)\n",
    "    counters['eg'].append(c_epsilon)\n",
    "    \n",
    "    # plt.figure(figsize=(5, 5))\n",
    "    # plt.plot(r_thompson, label='Thompson Sampling', c='r')\n",
    "    # plt.plot(r_epsilon, label='e-greedy (0.01)', c='b')\n",
    "    # plt.xlabel('Steps')\n",
    "    # plt.ylabel('Cumulative Reward')\n",
    "    # plt.show()"
   ]
  }
 ],
 "metadata": {
  "kernelspec": {
   "display_name": "Python 3",
   "language": "python",
   "name": "python3"
  },
  "language_info": {
   "codemirror_mode": {
    "name": "ipython",
    "version": 3
   },
   "file_extension": ".py",
   "mimetype": "text/x-python",
   "name": "python",
   "nbconvert_exporter": "python",
   "pygments_lexer": "ipython3",
   "version": "3.6.5"
  }
 },
 "nbformat": 4,
 "nbformat_minor": 2
}
